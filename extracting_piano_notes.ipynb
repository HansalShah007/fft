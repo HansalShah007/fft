{
 "cells": [
  {
   "cell_type": "markdown",
   "metadata": {},
   "source": [
    "## Importing the required libraries"
   ]
  },
  {
   "cell_type": "code",
   "execution_count": 1,
   "metadata": {},
   "outputs": [],
   "source": [
    "import librosa\n",
    "import numpy as np\n",
    "from fft import nearest_pow_2, fft\n",
    "from sklearn.cluster import DBSCAN\n",
    "import matplotlib.pyplot as plt\n",
    "import json\n",
    "import math"
   ]
  },
  {
   "cell_type": "markdown",
   "metadata": {},
   "source": [
    "## Loading the audio with original sampling rate"
   ]
  },
  {
   "cell_type": "code",
   "execution_count": 2,
   "metadata": {},
   "outputs": [
    {
     "name": "stdout",
     "output_type": "stream",
     "text": [
      "960000\n",
      "48000\n"
     ]
    }
   ],
   "source": [
    "audio, sample_rate = librosa.load('audio_files/River Flows in You.wav', sr=None) # Smapling at the original sampling rate\n",
    "print(len(audio))\n",
    "print(sample_rate)"
   ]
  },
  {
   "cell_type": "markdown",
   "metadata": {},
   "source": [
    "## Applying FFT to the amplitude samples"
   ]
  },
  {
   "cell_type": "code",
   "execution_count": 3,
   "metadata": {},
   "outputs": [],
   "source": [
    "frequency_spectrum = fft(list(audio))"
   ]
  },
  {
   "cell_type": "code",
   "execution_count": 4,
   "metadata": {},
   "outputs": [],
   "source": [
    "# Computing the magnitudes of the frequency spectrum\n",
    "magnitudes = np.abs(frequency_spectrum)\n",
    "\n",
    "# Frequency resolution\n",
    "frequency_resolution = sample_rate / len(frequency_spectrum)\n",
    "\n",
    "# Generating the frequency axis\n",
    "frequencies = np.arange(0, sample_rate, frequency_resolution)\n",
    "\n",
    "# Considering only the first half of the spectrum (positive frequencies)\n",
    "half_index = len(frequency_spectrum) // 2\n",
    "frequencies = frequencies[:half_index]\n",
    "magnitudes = magnitudes[:half_index]\n"
   ]
  },
  {
   "cell_type": "code",
   "execution_count": 5,
   "metadata": {},
   "outputs": [
    {
     "name": "stdout",
     "output_type": "stream",
     "text": [
      "Estimated number of clusters: 18\n",
      "Estimated number of noise points: 11\n"
     ]
    }
   ],
   "source": [
    "# Find the indices of the 20 largest magnitudes (dominant frequencies)\n",
    "indices = np.argsort(magnitudes)[-500:]\n",
    "\n",
    "# Sorting indices to display them in increasing order of frequency\n",
    "sorted_indices = indices[np.argsort(frequencies[indices])]\n",
    "\n",
    "# Extracting the dominant frequencies and their magnitudes\n",
    "dominant_frequencies = [freq for freq in frequencies[sorted_indices] if freq <=4186]\n",
    "\n",
    "dominant_magnitudes = magnitudes[sorted_indices]\n",
    "\n",
    "# Convert frequencies to numpy array and reshape for clustering\n",
    "X = np.array(dominant_frequencies).reshape(-1, 1)\n",
    "\n",
    "# Create DBSCAN clusterer\n",
    "db = DBSCAN(eps=frequency_resolution*10, min_samples=4).fit(X)  # Adjust eps based on the expected cluster width in Hz\n",
    "\n",
    "# Extract labels\n",
    "labels = db.labels_\n",
    "\n",
    "# Number of clusters in labels, ignoring noise if present\n",
    "n_clusters_ = len(set(labels)) - (1 if -1 in labels else 0)\n",
    "n_noise_ = list(labels).count(-1)\n",
    "\n",
    "print(f\"Estimated number of clusters: {n_clusters_}\")\n",
    "print(f\"Estimated number of noise points: {n_noise_}\")"
   ]
  },
  {
   "cell_type": "code",
   "execution_count": 7,
   "metadata": {},
   "outputs": [],
   "source": [
    "# Getting the average frequency for all the clusters\n",
    "\n",
    "cluster_averages = {}\n",
    "\n",
    "for index, label in enumerate(labels):\n",
    "    if label!=-1:\n",
    "        if label not in cluster_averages.keys():\n",
    "            cluster_averages[label] = []\n",
    "        cluster_averages[label].append(dominant_frequencies[index])\n",
    "\n",
    "for (key, val) in cluster_averages.items():\n",
    "    cluster_averages[key] = sum(cluster_averages[key])/len(cluster_averages[key])\n"
   ]
  },
  {
   "cell_type": "code",
   "execution_count": 9,
   "metadata": {},
   "outputs": [
    {
     "name": "stdout",
     "output_type": "stream",
     "text": [
      "Piano notes played in the audio are: \n",
      " ['D5', 'A5', 'A4', 'C#4/Db4', 'D3', 'A3', 'D4', 'F#4/Gb4', 'F#5/Gb5', 'G#5/Ab5', 'E4', 'E5', 'C#5/Db5', 'F#3/Gb3']\n"
     ]
    }
   ],
   "source": [
    "# Mapping the average frequencies with piano notes\n",
    "with open('piano_frequencies.json', 'r') as f:\n",
    "    piano_frequencies = json.load(f)\n",
    "\n",
    "key_mapping = {}\n",
    "\n",
    "for (label, average_freq) in cluster_averages.items():\n",
    "    distances = [math.dist([average_freq], [val]) for val in list(piano_frequencies.values())]\n",
    "    key_mapping[average_freq] = list(piano_frequencies.keys())[np.argmin(distances)]\n",
    "\n",
    "print(f\"Piano notes played in the audio are: \\n {list(set(key_mapping.values()))}\")\n"
   ]
  }
 ],
 "metadata": {
  "kernelspec": {
   "display_name": "venv",
   "language": "python",
   "name": "python3"
  },
  "language_info": {
   "codemirror_mode": {
    "name": "ipython",
    "version": 3
   },
   "file_extension": ".py",
   "mimetype": "text/x-python",
   "name": "python",
   "nbconvert_exporter": "python",
   "pygments_lexer": "ipython3",
   "version": "3.12.2"
  }
 },
 "nbformat": 4,
 "nbformat_minor": 2
}
